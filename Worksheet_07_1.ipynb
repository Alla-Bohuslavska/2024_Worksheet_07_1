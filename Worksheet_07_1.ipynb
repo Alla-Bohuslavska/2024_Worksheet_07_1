{
 "cells": [
  {
   "cell_type": "markdown",
   "id": "b3aa9e0d-c5ab-4956-bf3a-41c08cf306c8",
   "metadata": {},
   "source": [
    "## Statistics 2780A - Statistical Inference ##\n",
    "## Fall 2024 #\n",
    "## Tutorial 7 #\n",
    "October 23, 2024"
   ]
  },
  {
   "cell_type": "markdown",
   "id": "d05c4c1b-25d2-4b23-9a7a-40e8d4b21a15",
   "metadata": {},
   "source": [
    "## Q1 ##\n",
    "1. The optimal value of LDL (low-density lipoprotein) cholesterol level is below 100 (milligrams per decilitre  - mg/dL). The following data give the LDL cholesterol levels of a group of young adults.  \n",
    "`91 105 98 98 98 107 101 101 94 96 103 109 105 103 95 97 95 91 104 107`   \n",
    "Suppose that $\\mu$ is the mean of the population from which the young adults have been selected. Assume that the population is normally distributed with known SD of 35.\n",
    "    1. Test at the 3% level of significance if the mean of the population $\\mu$ is an optimal value.\n",
    "    2. Find the p-value of the test.\n",
    "    3. Estimate a 97% random bound for the true mean $\\mu$.\n",
    "\n",
    "What is the conclusion in each situation regarding the null hypothesis?"
   ]
  },
  {
   "cell_type": "code",
   "execution_count": null,
   "id": "b18d47a0-0a9b-4333-b937-7994a9969f2a",
   "metadata": {},
   "outputs": [],
   "source": [
    "# answer"
   ]
  },
  {
   "cell_type": "markdown",
   "id": "e9823071-c9c5-4812-a4cc-c0403e7faa60",
   "metadata": {},
   "source": [
    "## Q2 ##\n",
    "2. Two random samples from two normal populations, means $\\mu_1$ and $\\mu_2$, respectively, produced the following data:   \n",
    "Sample I: `40 26 37 44 25 35 35 43 39 29 34 43 34 42 29 38`   \n",
    "Sample II: `51 40 29 47 43 36 47 38 40 26 26 38 37 27 34 35`   \n",
    "\n",
    "    1. Estimate the sample mean of the sample I and sample II.\n",
    "    2. Use the estimated sample mean of the sample II at null value $\\mu_0$. Test at the 2% level of significance if the mean of the first population is significantly different from the null value.\n",
    "    3. Compute the p-value of the test.\n",
    "    4. Estimate a 98% confidence interval for the true mean of the first population.\n",
    "\n",
    "What is the conclusion in each situation regarding the null hypothesis? What if we test the hypothesis using the data from sample II instead of sample I?"
   ]
  },
  {
   "cell_type": "code",
   "execution_count": null,
   "id": "d2263cd7-63ca-4145-b049-7857c1e49d96",
   "metadata": {},
   "outputs": [],
   "source": [
    "# answer"
   ]
  },
  {
   "cell_type": "markdown",
   "id": "d879b2af-baa5-42b9-a8c9-cc785da6d5e8",
   "metadata": {},
   "source": [
    "## Q3 ##\n",
    " Determine the p-value of the following tests:\n",
    "   1. Test problem: $H_0: \\mu = 2$ vs $H_1: \\mu\\neq 2$.   \n",
    "      Based on 11 samples, the value of the Gauss test is 0.3125 and the value of a t-test is 0.5123.\n",
    "   2. Test problem: $H_0: \\mu \\leq 1.5$ vs $H_1: \\mu> 1.5$.   \n",
    "      Based on 14 samples, the value of the Gauss test is 3.2534 and the value of a t-test is 4.1237.\n",
    "   3. Test problem: $H_0: \\mu \\geq -3.5$ vs $H_1: \\mu< -3.5$.   \n",
    "      Based on 8 samples, the value of the Gauss test is -0.537 and the value of a t-test is -1.918.   \n",
    "\n",
    "If the significance level is $\\alpha=0.05$, which of the tests give a significant result? "
   ]
  },
  {
   "cell_type": "code",
   "execution_count": 1,
   "id": "0ec57887-166f-47ed-aa30-5793ddd9855a",
   "metadata": {},
   "outputs": [],
   "source": [
    "# answer"
   ]
  },
  {
   "cell_type": "code",
   "execution_count": null,
   "id": "3794e47d-52b0-4684-8718-1130279e256f",
   "metadata": {},
   "outputs": [],
   "source": []
  }
 ],
 "metadata": {
  "kernelspec": {
   "display_name": "R",
   "language": "R",
   "name": "ir"
  },
  "language_info": {
   "codemirror_mode": "r",
   "file_extension": ".r",
   "mimetype": "text/x-r-source",
   "name": "R",
   "pygments_lexer": "r",
   "version": "4.3.3"
  }
 },
 "nbformat": 4,
 "nbformat_minor": 5
}
